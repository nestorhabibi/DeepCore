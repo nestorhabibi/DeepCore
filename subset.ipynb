{
 "cells": [
  {
   "cell_type": "code",
   "execution_count": 3,
   "metadata": {},
   "outputs": [
    {
     "name": "stdout",
     "output_type": "stream",
     "text": [
      "Collecting path\n",
      "  Downloading path-16.6.0-py3-none-any.whl (26 kB)\n",
      "Installing collected packages: path\n",
      "Successfully installed path-16.6.0\n",
      "\u001b[33mWARNING: Running pip as the 'root' user can result in broken permissions and conflicting behaviour with the system package manager. It is recommended to use a virtual environment instead: https://pip.pypa.io/warnings/venv\u001b[0m\u001b[33m\n",
      "\u001b[0m"
     ]
    }
   ],
   "source": [
    "!pip install path"
   ]
  },
  {
   "cell_type": "code",
   "execution_count": 4,
   "metadata": {},
   "outputs": [],
   "source": [
    "import torch"
   ]
  },
  {
   "cell_type": "code",
   "execution_count": 33,
   "metadata": {},
   "outputs": [
    {
     "name": "stdout",
     "output_type": "stream",
     "text": [
      "0\n",
      "File CIFAR10_ConvNN_Submodular_exp0_epoch200_2023-06-24 11:15:34.004453_0.1_66.750000.ckpt \n",
      "accuracy: 66.75\n",
      "Maximum accuracy:  66.75\n",
      "Index maximum:  0\n",
      "1\n",
      "File CIFAR10_ConvNN_Submodular_exp0_epoch200_2023-06-24 11:08:09.840708_0.1_65.480000.ckpt \n",
      "accuracy: 65.48\n",
      "2\n",
      "File CIFAR10_ConvNN_Submodular_exp0_epoch200_2023-06-24 11:00:44.157464_0.1_65.970000.ckpt \n",
      "accuracy: 65.97\n",
      "3\n",
      "File CIFAR10_ConvNN_Submodular_exp0_epoch200_2023-06-24 10:53:12.786853_0.1_65.650000.ckpt \n",
      "accuracy: 65.65\n",
      "4\n",
      "File CIFAR10_ConvNN_Submodular_exp0_epoch200_2023-06-24 10:45:49.533760_0.1_65.880000.ckpt \n",
      "accuracy: 65.88\n",
      "\n",
      "Maximum accuracy:  66.75\n"
     ]
    }
   ],
   "source": [
    "# loop inside the folder \n",
    "import os\n",
    "import path\n",
    "\n",
    "number = \"10\"\n",
    "\n",
    "path_folder = f\"./result/{number}/\"\n",
    "checkpoints = []\n",
    "maxi = 0\n",
    "i_max = 0\n",
    "j = 0\n",
    "for i, file in enumerate(os.listdir(path_folder)):\n",
    "    if file.endswith(\".ckpt\"):\n",
    "        print(j)\n",
    "        checkpoint = torch.load(path_folder + file, map_location=\"cpu\")\n",
    "        checkpoints.append(checkpoint)\n",
    "        print(f\"File {file} \\naccuracy: {checkpoint['best_acc1']}\")\n",
    "        \n",
    "        if checkpoint[\"best_acc1\"] > maxi:\n",
    "            maxi = checkpoint[\"best_acc1\"]\n",
    "            i_max = j\n",
    "            print(\"Maximum accuracy: \", maxi)\n",
    "            print(\"Index maximum: \", i_max)\n",
    "        \n",
    "        torch.save(checkpoints[j][\"subset\"][\"indices\"], f\"{path_folder}SPLIT_{number}_{j}.pt\")\n",
    "        \n",
    "        j += 1\n",
    "\n",
    "print(\"\\nMaximum accuracy: \", checkpoints[i_max]['best_acc1'])\n",
    "torch.save(checkpoints[i_max][\"subset\"][\"indices\"], f\"{path_folder}SPLIT_{number}_MAX.pt\")"
   ]
  },
  {
   "cell_type": "code",
   "execution_count": null,
   "metadata": {},
   "outputs": [],
   "source": []
  }
 ],
 "metadata": {
  "kernelspec": {
   "display_name": "Python 3",
   "language": "python",
   "name": "python3"
  },
  "language_info": {
   "codemirror_mode": {
    "name": "ipython",
    "version": 3
   },
   "file_extension": ".py",
   "mimetype": "text/x-python",
   "name": "python",
   "nbconvert_exporter": "python",
   "pygments_lexer": "ipython3",
   "version": "3.10.6"
  },
  "orig_nbformat": 4
 },
 "nbformat": 4,
 "nbformat_minor": 2
}
