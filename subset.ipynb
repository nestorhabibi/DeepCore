{
 "cells": [
  {
   "cell_type": "code",
   "execution_count": 1,
   "metadata": {},
   "outputs": [
    {
     "name": "stdout",
     "output_type": "stream",
     "text": [
      "Requirement already satisfied: path in /usr/local/lib/python3.10/dist-packages (16.6.0)\n",
      "\u001b[33mWARNING: Running pip as the 'root' user can result in broken permissions and conflicting behaviour with the system package manager. It is recommended to use a virtual environment instead: https://pip.pypa.io/warnings/venv\u001b[0m\u001b[33m\n",
      "\u001b[0m"
     ]
    }
   ],
   "source": [
    "!pip install path"
   ]
  },
  {
   "cell_type": "code",
   "execution_count": 1,
   "metadata": {},
   "outputs": [],
   "source": [
    "import torch"
   ]
  },
  {
   "cell_type": "code",
   "execution_count": 11,
   "metadata": {},
   "outputs": [
    {
     "name": "stdout",
     "output_type": "stream",
     "text": [
      "0\n",
      "File CIFAR10_ResNet18_Submodular_exp0_epoch200_2023-06-24 17:54:44.863535_0.01_43.730000.ckpt \n",
      "accuracy: 43.73\n",
      "Maximum accuracy:  43.73\n",
      "Index maximum:  0\n",
      "1\n",
      "File CIFAR10_ResNet18_Submodular_exp0_epoch200_2023-06-24 17:44:15.030622_0.01_40.830000.ckpt \n",
      "accuracy: 40.83\n",
      "2\n",
      "File CIFAR10_ResNet18_Submodular_exp0_epoch200_2023-06-24 17:33:49.701110_0.01_40.410000.ckpt \n",
      "accuracy: 40.41\n",
      "3\n",
      "File CIFAR10_ResNet18_Submodular_exp0_epoch200_2023-06-24 17:22:39.315375_0.01_42.730000.ckpt \n",
      "accuracy: 42.73\n",
      "4\n",
      "File CIFAR10_ResNet18_Submodular_exp0_epoch200_2023-06-24 17:12:12.475979_0.01_42.670000.ckpt \n",
      "accuracy: 42.67\n",
      "\n",
      "Maximum accuracy:  43.73\n"
     ]
    }
   ],
   "source": [
    "# loop inside the folder \n",
    "import os\n",
    "import path\n",
    "\n",
    "number = \"01\"\n",
    "\n",
    "path_folder = f\"./result/{number}/\"\n",
    "checkpoints = []\n",
    "maxi = 0\n",
    "i_max = 0\n",
    "j = 0\n",
    "for i, file in enumerate(os.listdir(path_folder)):\n",
    "    if file.endswith(\".ckpt\"):\n",
    "        print(j)\n",
    "        checkpoint = torch.load(path_folder + file, map_location=\"cpu\")\n",
    "        checkpoints.append(checkpoint)\n",
    "        print(f\"File {file} \\naccuracy: {checkpoint['best_acc1']}\")\n",
    "        \n",
    "        if checkpoint[\"best_acc1\"] > maxi:\n",
    "            maxi = checkpoint[\"best_acc1\"]\n",
    "            i_max = j\n",
    "            print(\"Maximum accuracy: \", maxi)\n",
    "            print(\"Index maximum: \", i_max)\n",
    "        \n",
    "        torch.save(checkpoints[j][\"subset\"][\"indices\"], f\"{path_folder}SPLIT_{number}_{j}.pt\")\n",
    "        \n",
    "        j += 1\n",
    "\n",
    "print(\"\\nMaximum accuracy: \", checkpoints[i_max]['best_acc1'])\n",
    "torch.save(checkpoints[i_max][\"subset\"][\"indices\"], f\"{path_folder}SPLIT_{number}_MAX.pt\")"
   ]
  },
  {
   "cell_type": "code",
   "execution_count": null,
   "metadata": {},
   "outputs": [],
   "source": []
  }
 ],
 "metadata": {
  "kernelspec": {
   "display_name": "Python 3",
   "language": "python",
   "name": "python3"
  },
  "language_info": {
   "codemirror_mode": {
    "name": "ipython",
    "version": 3
   },
   "file_extension": ".py",
   "mimetype": "text/x-python",
   "name": "python",
   "nbconvert_exporter": "python",
   "pygments_lexer": "ipython3",
   "version": "3.10.6"
  },
  "orig_nbformat": 4
 },
 "nbformat": 4,
 "nbformat_minor": 2
}
