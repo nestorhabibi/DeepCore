{
 "cells": [
  {
   "cell_type": "code",
   "execution_count": 24,
   "metadata": {},
   "outputs": [],
   "source": [
    "import torch"
   ]
  },
  {
   "cell_type": "code",
   "execution_count": 25,
   "metadata": {},
   "outputs": [
    {
     "name": "stdout",
     "output_type": "stream",
     "text": [
      "23.85\n",
      "39.3\n",
      "44.67\n",
      "17.42\n"
     ]
    }
   ],
   "source": [
    "# loop inside the folder \n",
    "import os\n",
    "import path\n",
    "\n",
    "path_folder = \"./result/10/\"\n",
    "checkpoints = []\n",
    "maxi = 0\n",
    "i_max = 0\n",
    "\n",
    "for i, file in enumerate(os.listdir(path_folder)):\n",
    "    if file.endswith(\".ckpt\"):\n",
    "        checkpoint = torch.load(path_folder + file, map_location=\"cpu\")\n",
    "        checkpoints.append(checkpoint)\n",
    "        print(checkpoint[\"best_acc1\"])\n",
    "        if checkpoint[\"best_acc1\"] > maxi:\n",
    "            maxi = checkpoint[\"best_acc1\"]\n",
    "            i_max = i\n",
    "\n",
    "torch.save(checkpoints[i_max][\"subset\"][\"indices\"], f\"{path_folder}SPLIT_10.pt\")"
   ]
  },
  {
   "cell_type": "code",
   "execution_count": 26,
   "metadata": {},
   "outputs": [
    {
     "name": "stdout",
     "output_type": "stream",
     "text": [
      "58.41\n",
      "59.24\n",
      "60.9\n",
      "57.17\n"
     ]
    }
   ],
   "source": [
    "# loop inside the folder \n",
    "import os\n",
    "import path\n",
    "\n",
    "path_folder = \"./result/05/\"\n",
    "checkpoints = []\n",
    "maxi = 0\n",
    "i_max = 0\n",
    "\n",
    "for i, file in enumerate(os.listdir(path_folder)):\n",
    "    if file.endswith(\".ckpt\"):\n",
    "        checkpoint = torch.load(path_folder + file, map_location=\"cpu\")\n",
    "        checkpoints.append(checkpoint)\n",
    "        print(checkpoint[\"best_acc1\"])\n",
    "        if checkpoint[\"best_acc1\"] >= maxi:\n",
    "            maxi = checkpoint[\"best_acc1\"]\n",
    "            i_max = i\n",
    "torch.save(checkpoints[i_max][\"subset\"][\"indices\"], f\"{path_folder}SPLIT_05.pt\")"
   ]
  },
  {
   "cell_type": "code",
   "execution_count": 29,
   "metadata": {},
   "outputs": [
    {
     "name": "stdout",
     "output_type": "stream",
     "text": [
      "17.23\n",
      "41.6\n",
      "39.31\n"
     ]
    }
   ],
   "source": [
    "# loop inside the folder \n",
    "import os\n",
    "import path\n",
    "\n",
    "path_folder = \"./result/01/\"\n",
    "checkpoints = []\n",
    "maxi = 0\n",
    "i_max = 0\n",
    "\n",
    "for i, file in enumerate(os.listdir(path_folder)):\n",
    "    if file.endswith(\".ckpt\"):\n",
    "        checkpoint = torch.load(path_folder + file, map_location=\"cpu\")\n",
    "        checkpoints.append(checkpoint)\n",
    "        print(checkpoint[\"best_acc1\"])\n",
    "        if checkpoint[\"best_acc1\"] > maxi:\n",
    "            maxi = checkpoint[\"best_acc1\"]\n",
    "            i_max = i\n",
    "torch.save(checkpoints[i_max][\"subset\"][\"indices\"], f\"{path_folder}SPLIT_01.pt\")"
   ]
  },
  {
   "cell_type": "code",
   "execution_count": null,
   "metadata": {},
   "outputs": [],
   "source": []
  }
 ],
 "metadata": {
  "kernelspec": {
   "display_name": "Python 3",
   "language": "python",
   "name": "python3"
  },
  "language_info": {
   "codemirror_mode": {
    "name": "ipython",
    "version": 3
   },
   "file_extension": ".py",
   "mimetype": "text/x-python",
   "name": "python",
   "nbconvert_exporter": "python",
   "pygments_lexer": "ipython3",
   "version": "3.10.6"
  },
  "orig_nbformat": 4
 },
 "nbformat": 4,
 "nbformat_minor": 2
}
